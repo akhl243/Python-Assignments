{
 "cells": [
  {
   "cell_type": "markdown",
   "metadata": {},
   "source": [
    "# Assignment 1\n",
    "## Applied Machine Learning (BUAN 6341)\n",
    "\n",
    "### <font color='red'>Due Date: February 18, 2022 11:59pm</font> "
   ]
  },
  {
   "cell_type": "markdown",
   "metadata": {},
   "source": [
    "Deliverables:\n",
    "\n",
    "- Submit your answers to conceptual questions (described in another .pdf file) in a pdf file.\n",
    "- Write down your codes and discussions in the given cells described in this file.\n",
    "    - Cells for coding are denoted as \"YOUR CODE HERE\" \n",
    "    - Cells for discussions are denoted as \"YOUR DISCUSSIONS HERE\". Include \"#\" before each line of your discussions to comment out your wordings (i.e., not considered as code).\n",
    "    - If you need more cells to check temporary results, add a cell using the \"+\" button or shortcut \"esc + b\".\n",
    "- Submit two files: .pdf and .ipynb to eLearning.\n"
   ]
  },
  {
   "cell_type": "code",
   "execution_count": 1,
   "metadata": {},
   "outputs": [],
   "source": [
    "NAME = \"Akhil Chandhoke\""
   ]
  },
  {
   "cell_type": "markdown",
   "metadata": {},
   "source": [
    "### Meet the Data and the Setting\n",
    "\n",
    "##### Background  \n",
    "Bike sharing systems are new generation of traditional bike rentals where whole process from membership, rental and return back has become automatic. Currently, there are about over 500 bike-sharing programs around the world which is composed of over 500 thousands bicycles.\n",
    "\n",
    "##### The Dataset\n",
    "\n",
    "We will be using the daily version of the Capital Bikeshare System dataset from the UCI Machine Learning Repository. This data set contains information about the daily count of bike rental checkouts in Washington, D.C.’s bikeshare program between 2011 and 2012. It also includes information about the weather and seasonal/temporal features for that day (like whether it was a weekday).\n",
    "- **day:** Day of the record (relative to day 1:2011-01-01)\n",
    "- **season:** Season (1:spring, 2:summer, 3:fall, 4:winter)\n",
    "- **weekday:** Day of the week (0=Sunday, 6=Saturday)\n",
    "- **workingday:** If day is neither weekend nor holiday is 1, otherwise is 0.\n",
    "- **weathersit:**<br>\n",
    "    - 1: Clear, Few clouds, Partly cloudy, Partly cloudy\n",
    "    - 2: Mist + Cloudy, Mist + Broken clouds, Mist + Few clouds, Mist\n",
    "    - 3: Light Snow, Light Rain + Thunderstorm + Scattered clouds, Light Rain + Scattered\n",
    "clouds\n",
    "- **temp:** Normalized temperature in Celcius\n",
    "- **windspeed:** Normalized wind speed\n",
    "- **casual:** Count of checkouts by casual/non-registered users\n",
    "- **registered:** Count of checkouts by registered users\n",
    "- **cnt:** Total checkouts\n",
    "\n",
    "##### Practice Prep\n",
    "The cells below imports basic packages as well as the bike-sharing dataset. The original dataset is loaded as Pandas DataFrame, and is named as 'daily'. Run and read through the cells below to obtain a general understanding of the data."
   ]
  },
  {
   "cell_type": "code",
   "execution_count": 2,
   "metadata": {},
   "outputs": [],
   "source": [
    "%matplotlib inline \n",
    "import numpy as np\n",
    "import pandas as pd\n",
    "import sklearn\n",
    "import matplotlib.pyplot as plt\n",
    "import seaborn as sns\n",
    "\n",
    "import warnings\n",
    "warnings.filterwarnings('ignore')"
   ]
  },
  {
   "cell_type": "code",
   "execution_count": 3,
   "metadata": {},
   "outputs": [
    {
     "data": {
      "text/html": [
       "<div>\n",
       "<style scoped>\n",
       "    .dataframe tbody tr th:only-of-type {\n",
       "        vertical-align: middle;\n",
       "    }\n",
       "\n",
       "    .dataframe tbody tr th {\n",
       "        vertical-align: top;\n",
       "    }\n",
       "\n",
       "    .dataframe thead th {\n",
       "        text-align: right;\n",
       "    }\n",
       "</style>\n",
       "<table border=\"1\" class=\"dataframe\">\n",
       "  <thead>\n",
       "    <tr style=\"text-align: right;\">\n",
       "      <th></th>\n",
       "      <th>day</th>\n",
       "      <th>season</th>\n",
       "      <th>weekday</th>\n",
       "      <th>workingday</th>\n",
       "      <th>weathersit</th>\n",
       "      <th>temp</th>\n",
       "      <th>windspeed</th>\n",
       "      <th>casual</th>\n",
       "      <th>registered</th>\n",
       "      <th>cnt</th>\n",
       "    </tr>\n",
       "  </thead>\n",
       "  <tbody>\n",
       "    <tr>\n",
       "      <th>0</th>\n",
       "      <td>1</td>\n",
       "      <td>1</td>\n",
       "      <td>6</td>\n",
       "      <td>0</td>\n",
       "      <td>2</td>\n",
       "      <td>0.344167</td>\n",
       "      <td>0.160446</td>\n",
       "      <td>331</td>\n",
       "      <td>654</td>\n",
       "      <td>985</td>\n",
       "    </tr>\n",
       "    <tr>\n",
       "      <th>1</th>\n",
       "      <td>2</td>\n",
       "      <td>1</td>\n",
       "      <td>0</td>\n",
       "      <td>0</td>\n",
       "      <td>2</td>\n",
       "      <td>0.363478</td>\n",
       "      <td>0.248539</td>\n",
       "      <td>131</td>\n",
       "      <td>670</td>\n",
       "      <td>801</td>\n",
       "    </tr>\n",
       "    <tr>\n",
       "      <th>2</th>\n",
       "      <td>3</td>\n",
       "      <td>1</td>\n",
       "      <td>1</td>\n",
       "      <td>1</td>\n",
       "      <td>1</td>\n",
       "      <td>0.196364</td>\n",
       "      <td>0.248309</td>\n",
       "      <td>120</td>\n",
       "      <td>1229</td>\n",
       "      <td>1349</td>\n",
       "    </tr>\n",
       "    <tr>\n",
       "      <th>3</th>\n",
       "      <td>4</td>\n",
       "      <td>1</td>\n",
       "      <td>2</td>\n",
       "      <td>1</td>\n",
       "      <td>1</td>\n",
       "      <td>0.200000</td>\n",
       "      <td>0.160296</td>\n",
       "      <td>108</td>\n",
       "      <td>1454</td>\n",
       "      <td>1562</td>\n",
       "    </tr>\n",
       "    <tr>\n",
       "      <th>4</th>\n",
       "      <td>5</td>\n",
       "      <td>1</td>\n",
       "      <td>3</td>\n",
       "      <td>1</td>\n",
       "      <td>1</td>\n",
       "      <td>0.226957</td>\n",
       "      <td>0.186900</td>\n",
       "      <td>82</td>\n",
       "      <td>1518</td>\n",
       "      <td>1600</td>\n",
       "    </tr>\n",
       "  </tbody>\n",
       "</table>\n",
       "</div>"
      ],
      "text/plain": [
       "   day  season  weekday  workingday  weathersit      temp  windspeed  casual  \\\n",
       "0    1       1        6           0           2  0.344167   0.160446     331   \n",
       "1    2       1        0           0           2  0.363478   0.248539     131   \n",
       "2    3       1        1           1           1  0.196364   0.248309     120   \n",
       "3    4       1        2           1           1  0.200000   0.160296     108   \n",
       "4    5       1        3           1           1  0.226957   0.186900      82   \n",
       "\n",
       "   registered   cnt  \n",
       "0         654   985  \n",
       "1         670   801  \n",
       "2        1229  1349  \n",
       "3        1454  1562  \n",
       "4        1518  1600  "
      ]
     },
     "execution_count": 3,
     "metadata": {},
     "output_type": "execute_result"
    }
   ],
   "source": [
    "import pandas as pd\n",
    "daily = pd.read_csv(\"day.csv\")\n",
    "daily.head()"
   ]
  },
  {
   "cell_type": "code",
   "execution_count": 4,
   "metadata": {},
   "outputs": [
    {
     "name": "stdout",
     "output_type": "stream",
     "text": [
      "Index(['day', 'season', 'weekday', 'workingday', 'weathersit', 'temp',\n",
      "       'windspeed', 'casual', 'registered', 'cnt'],\n",
      "      dtype='object')\n"
     ]
    }
   ],
   "source": [
    "print(daily.columns)"
   ]
  },
  {
   "cell_type": "markdown",
   "metadata": {},
   "source": [
    "**Question 1 : Data Exploration.** (12 points)\n",
    "\n",
    "- Plot the daily count of bikes that were checked out by **casual/non-registered** users (y) against the temperature (x). \n",
    "- Set the color based on whether it is a working day. Set transparency to 0.7. \n",
    "- Include appropriate labels for x-axis and y-axis, and colorbar. *Hint: use plt.colorbar(ticks = [0,1]) to change the ticks.*\n",
    "- What insights can you get?"
   ]
  },
  {
   "cell_type": "code",
   "execution_count": 5,
   "metadata": {},
   "outputs": [
    {
     "data": {
      "text/plain": [
       "<matplotlib.colorbar.Colorbar at 0x27ece844fd0>"
      ]
     },
     "execution_count": 5,
     "metadata": {},
     "output_type": "execute_result"
    },
    {
     "data": {
      "image/png": "[encoded data removed]",
      "text/plain": [
       "<Figure size 432x288 with 2 Axes>"
      ]
     },
     "metadata": {
      "needs_background": "light"
     },
     "output_type": "display_data"
    }
   ],
   "source": [
    "## YOUR CODE HERE ##\n",
    "\n",
    "#We create the Scatter plot as told.\n",
    "\n",
    "y = daily['casual']\n",
    "x = daily['temp']\n",
    "category=daily['workingday']\n",
    "\n",
    "plt.scatter(x,y,c=category, alpha=.7)\n",
    "plt.ylabel(\"Count of Bikes checked by Casual/Non-Registered Users\")\n",
    "plt.xlabel(\"Normalized Temperature\")\n",
    "plt.colorbar(ticks=[0,1])"
   ]
  },
  {
   "cell_type": "code",
   "execution_count": 6,
   "metadata": {},
   "outputs": [],
   "source": [
    "##DISCUSSION \n",
    "\n",
    "#My conclusion for the above graph is as follows:-\n",
    "#1.The maximum count of bikes checked by casual users is 3500 when temperature is .6 and the day is non working day as workingday is 0.\n",
    "#2.The minimum count of bikes checked by casual users is 0 when temperature is between 0.1 and .5 and the day is working day as working day is 1.\n",
    "#3.The maximum count of bikes checked by casual users is around 2500 when it is a working day.\n",
    "#4.The maximum count of bikes checked by casual users is around 3500 when it is not a working day.\n",
    "#5.With the visualization and analysis, when it is workday, the slope is steeper, so we see that the count increases with increase in normalized temperature, whereas when it is non working day, there is a increase in count against normalized temperature, but the slope is not that steep.\n",
    "#6.But for a better and indepth stats and result we have to do more analysis.\n",
    "#7.An interesting insight is that casual users have more maximum count on non working day rather than working day."
   ]
  },
  {
   "cell_type": "markdown",
   "metadata": {},
   "source": [
    "## Regression\n",
    "\n",
    "In this section, you are supposed to complete TWO regression models, some in conjunction with grid search and CV. First, run the cells below to complete the data splitting step. "
   ]
  },
  {
   "cell_type": "code",
   "execution_count": 7,
   "metadata": {},
   "outputs": [],
   "source": [
    "# We define X and y\n",
    "var = ['temp','windspeed','season', 'weekday', 'workingday', 'weathersit']\n",
    "X = daily[var]\n",
    "y = daily['cnt']"
   ]
  },
  {
   "cell_type": "code",
   "execution_count": 8,
   "metadata": {},
   "outputs": [],
   "source": [
    "#We then do Data splitting for training and test set\n",
    "from sklearn.model_selection import train_test_split\n",
    "X_train, X_test, y_train, y_test = train_test_split(X, y, random_state=42)"
   ]
  },
  {
   "cell_type": "markdown",
   "metadata": {},
   "source": [
    "**Question 2: Linear Regression**\n",
    "\n",
    "- Train a linear regression model. Report and specify clearly the estimated coefficients and intercept.   \n",
    "  *Hint: use print(\"The intercept is:\", INTERCEPT_RSLT) to specify the result reported is the intercept.*\n",
    "- Obtain the predicted y for (1) test set and (2) training set. Store the results properly.\n",
    "- Calculate and use print function to report (1) the MSE for test set and (2) the MSE for training set.\n",
    "- We have obtained two MSE values. Which one should we report as the unbiased performance measure?\n",
    "- Can you propose other potential measures for the model's performance? \n",
    "  *(Discussion only. No need to obtain the measure's value)*"
   ]
  },
  {
   "cell_type": "code",
   "execution_count": 9,
   "metadata": {},
   "outputs": [
    {
     "data": {
      "text/plain": [
       "548"
      ]
     },
     "execution_count": 9,
     "metadata": {},
     "output_type": "execute_result"
    }
   ],
   "source": [
    "#We then show number of observations in the training set\n",
    "X_train.shape, X_test.shape, y_train.shape\n",
    "\n",
    "X_train.shape[0]"
   ]
  },
  {
   "cell_type": "code",
   "execution_count": 12,
   "metadata": {},
   "outputs": [],
   "source": [
    "#Before training, a model has been created by the process taught by the professor.\n",
    "\n",
    "#My model is created below named my_model_assignment1\n",
    "\n",
    "from sklearn.linear_model import LinearRegression\n",
    "my_model_assignment1 = LinearRegression()\n"
   ]
  },
  {
   "cell_type": "code",
   "execution_count": 13,
   "metadata": {},
   "outputs": [
    {
     "name": "stdout",
     "output_type": "stream",
     "text": [
      "the coefficients are: [ 5245.48567189 -1995.73565252   412.66281476    76.77426589\n",
      "   132.20982981  -800.60943777]\n",
      "the intercept is: 2093.4087280168715\n"
     ]
    }
   ],
   "source": [
    "# We then train the model and report coefficients\n",
    "\n",
    "# Train the model using the training set\n",
    "my_model_assignment1.fit(X_train, y_train)\n",
    "\n",
    "# Print out the coefficients\n",
    "print(\"the coefficients are:\", my_model_assignment1.coef_)\n",
    "print(\"the intercept is:\", my_model_assignment1.intercept_)"
   ]
  },
  {
   "cell_type": "code",
   "execution_count": 14,
   "metadata": {},
   "outputs": [
    {
     "name": "stdout",
     "output_type": "stream",
     "text": [
      "The predicted y value for train set is: 548\n"
     ]
    }
   ],
   "source": [
    "## We then predict y for training and test set\n",
    "\n",
    "#Predict y for training\n",
    "y_prediction_train=my_model_assignment1.predict(X_train)\n",
    "y_prediction_train.shape[0]\n",
    "\n",
    "print(\"The predicted y value for train set is:\", y_prediction_train.shape[0])"
   ]
  },
  {
   "cell_type": "code",
   "execution_count": 15,
   "metadata": {},
   "outputs": [
    {
     "name": "stdout",
     "output_type": "stream",
     "text": [
      "The predicted y value for test set is: 183\n"
     ]
    }
   ],
   "source": [
    "#Predict y for test\n",
    "y_prediction_test = my_model_assignment1.predict(X_test)\n",
    "y_prediction_test.shape[0]\n",
    "\n",
    "print(\"The predicted y value for test set is:\", y_prediction_test.shape[0])"
   ]
  },
  {
   "cell_type": "code",
   "execution_count": 16,
   "metadata": {},
   "outputs": [
    {
     "name": "stdout",
     "output_type": "stream",
     "text": [
      "The MSE value for train set is: 1852849.4373569072\n"
     ]
    }
   ],
   "source": [
    "# We then calculate and report the MSE FOR TRAIN SET(first we calculate error by actual- predicted and get the MSE)\n",
    "e = y_train - y_prediction_train\n",
    "\n",
    "MSE_train = np.sum(e**2)/y_prediction_train.shape[0]\n",
    "MSE_train\n",
    "\n",
    "print(\"The MSE value for train set is:\",MSE_train)"
   ]
  },
  {
   "cell_type": "code",
   "execution_count": 17,
   "metadata": {},
   "outputs": [
    {
     "name": "stdout",
     "output_type": "stream",
     "text": [
      "The MSE value for test set is: 1816812.3742340659\n"
     ]
    }
   ],
   "source": [
    "## We then calculate and report the MSE for test set(first we calculate error by actual- predicted and get the MSE)\n",
    "e = y_test - y_prediction_test\n",
    "\n",
    "MSE_test = np.sum(e**2)/y_prediction_test.shape[0]\n",
    "MSE_test\n",
    "\n",
    "print(\"The MSE value for test set is:\",MSE_test)"
   ]
  },
  {
   "cell_type": "code",
   "execution_count": 20,
   "metadata": {},
   "outputs": [
    {
     "data": {
      "text/plain": [
       "0.5285823895780065"
      ]
     },
     "execution_count": 20,
     "metadata": {},
     "output_type": "execute_result"
    }
   ],
   "source": [
    "## Discussion: Which is the unbiased performance measure? Can you propose other performance measures?\n",
    "\n",
    "#MSE for the test set is the unbiased performance measure.Because the model has been trained using training data and will not reflect the accurate picture, so we should take MSE on the test set.\n",
    "#We can find MAE and \n",
    "#R-square as R-squared shows, how well the model captures the variance of the data. So, a R-squared value will indicate a better performance. \n",
    "\n",
    "#rsquare for test set\n",
    "my_model_assignment1.score(X_test, y_test)"
   ]
  },
  {
   "cell_type": "markdown",
   "metadata": {},
   "source": [
    "**Question 3: Polynomial Regression**\n",
    "\n",
    "- Train a Polynomial regression model with grid search and 10-fold cross-validation. Let the grid of the hyperparameter be: [1,2,3]. Leave other parameters as default.\n",
    "- Report the hyperparameter chosen (i.e., the degree selected) and the mean of validation score of the chosen model.\n",
    "- Obtain the chosen model's unbiased performance (based on default measure, R-squared)."
   ]
  },
  {
   "cell_type": "code",
   "execution_count": 21,
   "metadata": {},
   "outputs": [
    {
     "data": {
      "text/plain": [
       "GridSearchCV(cv=10,\n",
       "             estimator=Pipeline(steps=[('polynomialfeatures',\n",
       "                                        PolynomialFeatures()),\n",
       "                                       ('linearregression',\n",
       "                                        LinearRegression())]),\n",
       "             param_grid={'polynomialfeatures__degree': range(1, 4)})"
      ]
     },
     "execution_count": 21,
     "metadata": {},
     "output_type": "execute_result"
    }
   ],
   "source": [
    "# Train the model, and report the results\n",
    "\n",
    "# we load gridsearchCV\n",
    "from sklearn.model_selection import GridSearchCV\n",
    "\n",
    "# then we Load other modules\n",
    "from sklearn.preprocessing  import PolynomialFeatures\n",
    "from sklearn.pipeline import make_pipeline\n",
    "from sklearn.linear_model import LinearRegression\n",
    "\n",
    "# We define grid of parameter.param_poly1 is hyperparams\n",
    "# We take range (1,4) as it should have 1,2,3\n",
    "\n",
    "parampoly1 = {'polynomialfeatures__degree' :  range(1,4)  }\n",
    "\n",
    "#We then define estimator: use make_pipeline to combine two functions. \n",
    "\n",
    "gridpoly1=PolynomialFeatures()\n",
    "\n",
    "gridlr1=LinearRegression()\n",
    "\n",
    "gridpipe1=make_pipeline(gridpoly1,gridlr1) \n",
    "\n",
    "#We then define GridSearchCV Estimation function, then train the model\n",
    "\n",
    "gridsearchpoly1=GridSearchCV(gridpipe1,parampoly1, cv=10)\n",
    "\n",
    "gridsearchpoly1.fit(X_train,y_train)"
   ]
  },
  {
   "cell_type": "code",
   "execution_count": 22,
   "metadata": {
    "scrolled": true
   },
   "outputs": [
    {
     "data": {
      "text/plain": [
       "array([5377.66864117, 2571.12969418, 3936.32261027, 3207.41698848,\n",
       "       5642.5917853 , 6349.76788427, 1597.51486515, 3632.53364685,\n",
       "       5922.85299361, 5604.20636755, 2347.41817785, 3470.39834357,\n",
       "       5035.61493958, 4441.4026886 , 3284.73951915, 3035.02988544,\n",
       "       3347.09921451, 6473.25891013, 6631.9538479 , 2317.14923947,\n",
       "       6261.83405074, 7092.35133583, 4062.89285789, 2606.14601853,\n",
       "       2395.07409246, 5920.14230639, 3032.48305205, 5565.28953661,\n",
       "       3147.57614262, 4942.36366952, 3969.02724362, 5101.4975948 ,\n",
       "       4743.93003638, 5403.80792553, 4249.18205163, 4029.27372116,\n",
       "       5787.22919529, 5173.8149008 , 4147.5389987 , 1833.83225986,\n",
       "       5118.90317429, 2945.40911748, 6375.20036791, 4441.54437501,\n",
       "       6353.40084456, 3324.19848941, 6225.71514366, 3947.80102317,\n",
       "       5540.10376072, 3171.80692478, 4914.42617623, 3854.7888826 ,\n",
       "       3373.07063847, 6873.32450651, 6021.105345  , 5341.59219566,\n",
       "       5697.89982392, 3474.47378939, 5192.52291174, 5832.76169666,\n",
       "       4449.29406798, 5431.77002527, 3142.18780367, 6194.64384883,\n",
       "       5015.01155931, 6358.11141942, 6631.35019713, 6428.85000988,\n",
       "       2877.97282215, 5393.18739717, 3909.83567233, 3247.1704781 ,\n",
       "       4251.55535829, 4830.30148374, 3489.21661621, 3690.54457329,\n",
       "       4356.02830831, 5002.11604263, 2109.32604357, 6277.22786776,\n",
       "       1978.61600615, 3290.23957346, 4907.74092532, 3144.35695437,\n",
       "       4906.4118557 , 3223.64750745, 5629.3174166 , 4874.96595759,\n",
       "       4820.01137572, 4258.63271801, 1688.80792518, 6255.97058254,\n",
       "       4928.44972492, 4240.19299025, 2439.50943058, 2507.91028296,\n",
       "       5942.24318788, 1462.66262943, 4240.85858998, 6402.3733081 ,\n",
       "       6523.00170361, 6023.4460565 , 4893.07851145, 3554.94539129,\n",
       "       3208.00567395, 4682.70819494, 2519.29748848, 3473.27170553,\n",
       "       6475.67878984, 2092.45791106, 6580.1999243 , 5285.25020399,\n",
       "       4200.6315168 , 5881.99049341, 4290.16504791, 4391.31493605,\n",
       "       2640.51580279, 3279.77250073, 6177.53968241, 2443.64193687,\n",
       "       4645.05447121, 3827.12999297, 4593.05666385, 2448.91162505,\n",
       "       5509.78333771, 4953.33464251, 6629.89864024, 4399.72711609,\n",
       "       3210.87913945, 5044.09889369, 4265.15563101, 5251.61177876,\n",
       "       4424.40580243, 3740.72654639, 5885.12626413, 2890.92956364,\n",
       "       3775.34675741, 4794.26605912, 2616.29890737, 6474.77431796,\n",
       "       4985.2414536 , 3257.28885948, 3452.13994381, 6582.68366836,\n",
       "       5229.21896157, 5432.72235191, 5103.17601302, 3546.91440831,\n",
       "       4309.38325554, 4782.21420991, 4836.66682656, 6009.6555612 ,\n",
       "       3995.9647783 , 5500.32073329, 2115.054668  , 4202.14067977,\n",
       "       3508.89619526, 5895.1785127 , 4060.8081457 , 5874.54975843,\n",
       "       4340.23220183, 4163.22445796, 5233.33321164, 4625.50562928,\n",
       "       2996.78029037, 3941.3452407 , 4770.00041365, 3275.61100622,\n",
       "       4469.60633208, 6701.00705889, 6076.51101327, 6379.38035515,\n",
       "       2103.82317106, 2660.67993008, 2748.12129287, 4178.16297735,\n",
       "       3497.96346185, 6760.32970551, 4316.85674578, 2765.25138434,\n",
       "       1958.37660076, 5233.61149339, 5805.89724143])"
      ]
     },
     "execution_count": 22,
     "metadata": {},
     "output_type": "execute_result"
    }
   ],
   "source": [
    "#We predict then \n",
    "gridsearchpoly1.predict(X_test)"
   ]
  },
  {
   "cell_type": "code",
   "execution_count": 23,
   "metadata": {},
   "outputs": [
    {
     "name": "stdout",
     "output_type": "stream",
     "text": [
      "The hyperparameter chosen (i.e., the degree selected) is : {'polynomialfeatures__degree': 1}\n"
     ]
    }
   ],
   "source": [
    "## 1. Chosen degree: is given by this code\n",
    "gridsearchpoly1.best_params_\n",
    "\n",
    "print(\"The hyperparameter chosen (i.e., the degree selected) is :\",gridsearchpoly1.best_params_)"
   ]
  },
  {
   "cell_type": "code",
   "execution_count": 24,
   "metadata": {
    "scrolled": true
   },
   "outputs": [
    {
     "name": "stdout",
     "output_type": "stream",
     "text": [
      "The  the mean of validation score of the chosen model is : 0.46151790928788144\n"
     ]
    }
   ],
   "source": [
    "## 2. The performance best score\n",
    "gridsearchpoly1.best_score_\n",
    "\n",
    "print(\"The  the mean of validation score of the chosen model is :\",gridsearchpoly1.best_score_)"
   ]
  },
  {
   "cell_type": "code",
   "execution_count": 25,
   "metadata": {},
   "outputs": [
    {
     "name": "stdout",
     "output_type": "stream",
     "text": [
      "The  best estimator of the chosen model is : Pipeline(steps=[('polynomialfeatures', PolynomialFeatures(degree=1)),\n",
      "                ('linearregression', LinearRegression())])\n"
     ]
    }
   ],
   "source": [
    "## 3. The best etimator\n",
    "gridsearchpoly1.best_estimator_\n",
    "\n",
    "print(\"The  best estimator of the chosen model is :\",gridsearchpoly1.best_estimator_)"
   ]
  },
  {
   "cell_type": "code",
   "execution_count": 26,
   "metadata": {},
   "outputs": [
    {
     "name": "stdout",
     "output_type": "stream",
     "text": [
      "The  R-square is : 0.5285823895780064\n"
     ]
    }
   ],
   "source": [
    "## 4. R square\n",
    "gridsearchpoly1.score(X_test,y_test)\n",
    "\n",
    "print(\"The  R-square is :\",gridsearchpoly1.score(X_test,y_test))"
   ]
  }
 ],
 "metadata": {
  "kernelspec": {
   "display_name": "Python 3 (ipykernel)",
   "language": "python",
   "name": "python3"
  },
  "language_info": {
   "codemirror_mode": {
    "name": "ipython",
    "version": 3
   },
   "file_extension": ".py",
   "mimetype": "text/x-python",
   "name": "python",
   "nbconvert_exporter": "python",
   "pygments_lexer": "ipython3",
   "version": "3.9.7"
  }
 },
 "nbformat": 4,
 "nbformat_minor": 2
}
