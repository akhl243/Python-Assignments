{
 "cells": [
  {
   "cell_type": "markdown",
   "metadata": {},
   "source": [
    "# Assignment 3: Ensemble Methods and Unsupervised Learning\n",
    "## Applied Machine Learning (BUAN 6341)\n",
    "\n",
    "### <font color='red'>Due Date: April 29, 2022 11:59 pm</font> "
   ]
  },
  {
   "cell_type": "markdown",
   "metadata": {},
   "source": [
    "Deliverables:\n",
    "\n",
    "- Write down your codes in the given cells described in this file, denoted as \"YOUR CODE HERE\"\n",
    "- Write down your discussion in the given cells, denoted as \"YOUR DISCUSSION HERE\"\n",
    "- Submit one file: .ipynb file to eLearning\n",
    "- There is no conceptual problem for this assignment.\n",
    "\n",
    "The total score of the implementation part is: 100"
   ]
  },
  {
   "cell_type": "code",
   "execution_count": 1,
   "metadata": {},
   "outputs": [],
   "source": [
    "NAME = \"Akhil Chandhoke\""
   ]
  },
  {
   "cell_type": "code",
   "execution_count": 15,
   "metadata": {},
   "outputs": [],
   "source": [
    "%matplotlib inline \n",
    "import numpy as np\n",
    "import matplotlib.pyplot as plt\n",
    "\n",
    "import warnings\n",
    "warnings.filterwarnings('ignore')"
   ]
  },
  {
   "cell_type": "markdown",
   "metadata": {},
   "source": [
    "### The MNIST Dataset\n",
    "\n",
    "The famous MNIST (hand-written digits) dataset contains 60,000 hand-written digit pictures (grayscale), each cut into 28 * 28 grids. It has been broadly applied to examine the performance of classification, clustering, and deep learning algorithms. The original dataset can be loaded using syntax: keras.datasets.mnist.load_data\n",
    "\n",
    "In this assignment, we will use a simplified version of this dataset, which contains 1797 hand-written digit pictures (grayscale), each cut in 8 * 8 grids. This simplified dataset reduces computation complexity. The simplified dataset can be loaded using: sklearn.datasets.load_digits.\n",
    "\n",
    "Run the cell below to (1) load the data and get a brief overview of it; (2) plot some of the pictures to get an intuitive understanding; and (3) split the data."
   ]
  },
  {
   "cell_type": "code",
   "execution_count": 16,
   "metadata": {},
   "outputs": [
    {
     "name": "stdout",
     "output_type": "stream",
     "text": [
      "Keys of MNIST datset: dict_keys(['data', 'target', 'frame', 'feature_names', 'target_names', 'images', 'DESCR'])\n",
      "Total number of records: 1797\n",
      "Number of features: 64\n",
      "Records will be classified into these classes: [0 1 2 3 4 5 6 7 8 9]\n"
     ]
    }
   ],
   "source": [
    "# Loading Data\n",
    "from sklearn.datasets import load_digits\n",
    "mnist = load_digits()\n",
    "print(\"Keys of MNIST datset:\", mnist.keys())\n",
    "\n",
    "print(\"Total number of records:\", mnist.data.shape[0])\n",
    "print(\"Number of features:\", mnist.data.shape[1])\n",
    "print(\"Records will be classified into these classes:\", mnist.target_names)"
   ]
  },
  {
   "cell_type": "code",
   "execution_count": 17,
   "metadata": {},
   "outputs": [
    {
     "data": {
      "image/png": "[encoded data removed]",
      "text/plain": [
       "<Figure size 1152x432 with 10 Axes>"
      ]
     },
     "metadata": {
      "needs_background": "light"
     },
     "output_type": "display_data"
    }
   ],
   "source": [
    "fig, axes = plt.subplots(2, 5, figsize=(16, 6))\n",
    "for i in range(10):\n",
    "    axes[i//5, i %5].imshow(mnist.images[i], cmap='gray');\n",
    "    axes[i//5, i %5].axis('off')\n",
    "    axes[i//5, i %5].set_title(f\"target: {mnist.target[i]}\")\n",
    "    \n",
    "plt.tight_layout()"
   ]
  },
  {
   "cell_type": "code",
   "execution_count": 18,
   "metadata": {},
   "outputs": [],
   "source": [
    "# Data Splitting\n",
    "\n",
    "## Define X and y\n",
    "X=mnist.data\n",
    "y=mnist.target\n",
    "\n",
    "## Split data\n",
    "from sklearn.model_selection import train_test_split\n",
    "X_train, X_test, y_train, y_test = train_test_split(X, y, stratify=y, random_state=0)"
   ]
  },
  {
   "cell_type": "markdown",
   "metadata": {},
   "source": [
    "## Section A. Ensemble Methods\n",
    "In this part, we will first run some simple models, then apply ensemble methods to see the performance. You will need to train TWO simple models and THREE ensemble models. When defining the model function, please use different names (you will need to call these models again in the model evaluation part).\n",
    "\n",
    "\n",
    "### Question 1. Simple Models - Decision Tree (10 points)\n",
    "- Train a Decision Tree model. Set \"max_depth\" to 6, \"min_samples_split\" to 2, \"max_leaf_nodes\" to  10, and random_state to 0.\n",
    "- Report the test accuracy of the decision tree model."
   ]
  },
  {
   "cell_type": "code",
   "execution_count": 19,
   "metadata": {},
   "outputs": [
    {
     "name": "stdout",
     "output_type": "stream",
     "text": [
      "The train accuracy for decision tree model 0.6622123236822569\n",
      "The test accuracy for decision tree model 0.66\n"
     ]
    }
   ],
   "source": [
    "## YOUR CODE HERE (for Decision Tree Model)\n",
    "from sklearn.tree import DecisionTreeClassifier\n",
    "\n",
    "dt = DecisionTreeClassifier(random_state = 0, max_depth = 6, min_samples_split=2, max_leaf_nodes=10)\n",
    "\n",
    "dt.fit(X_train, y_train)\n",
    "\n",
    "dt.score(X_train, y_train), dt.score(X_test, y_test)\n",
    "\n",
    "print(\"The train accuracy for decision tree model\", dt.score(X_train, y_train) )\n",
    "\n",
    "print(\"The test accuracy for decision tree model\", dt.score(X_test, y_test) )\n",
    "\n"
   ]
  },
  {
   "cell_type": "markdown",
   "metadata": {},
   "source": [
    "### Question 2. Simple Models - Naive Bayes (10 points)\n",
    "- Train a Gaussian Naive Bayes model. Leave all specifications as default. \n",
    "- Report the test accuracy of the naive bayes model."
   ]
  },
  {
   "cell_type": "code",
   "execution_count": 20,
   "metadata": {},
   "outputs": [
    {
     "name": "stdout",
     "output_type": "stream",
     "text": [
      "The test accuracy for naive bayes model is  0.8355555555555556\n"
     ]
    }
   ],
   "source": [
    "# YOUR CODE HERE (for Naive Bayes Model)\n",
    "\n",
    "# Training the Model\n",
    "from sklearn.naive_bayes import GaussianNB\n",
    "\n",
    "g_nb = GaussianNB()\n",
    "g_nb.fit(X_train, y_train)\n",
    "g_nb.score(X_test, y_test)\n",
    "\n",
    "print(\"The test accuracy for naive bayes model is \", g_nb.score(X_test, y_test) )\n"
   ]
  },
  {
   "cell_type": "markdown",
   "metadata": {},
   "source": [
    "### Question 3. Ensemble Methods - Random Forest (15 points)\n",
    "- Train a random forest model. Specifically, train 200 decision trees (i.e., n_estimators=200). For each tree, keep specifications the same as those used in Question 1 (i.e., max_depth = 6, min_samples_split = 2, etc.)\n",
    "- What is the test accuracy for the random forest?\n",
    "- Compare the performance (test accuracy) of random forest and decision tree. What do you find? Briefly discuss the difference between decision tree and random forest, and how the difference would influence model performance."
   ]
  },
  {
   "cell_type": "code",
   "execution_count": 21,
   "metadata": {},
   "outputs": [
    {
     "name": "stdout",
     "output_type": "stream",
     "text": [
      "The test accuracy for random forest model is  0.9\n"
     ]
    }
   ],
   "source": [
    "# YOUR CODE HERE\n",
    "\n",
    "from sklearn.ensemble import RandomForestClassifier\n",
    "\n",
    "rnd_clf = RandomForestClassifier(n_estimators=200, min_samples_split=2, random_state=0, max_leaf_nodes=10, max_depth=6)\n",
    "rnd_clf.fit(X_train, y_train)\n",
    "\n",
    "print(\"The test accuracy for random forest model is \",rnd_clf.score(X_test, y_test))\n"
   ]
  },
  {
   "cell_type": "code",
   "execution_count": null,
   "metadata": {},
   "outputs": [],
   "source": [
    "# YOUR DISCUSSION HERE\n",
    "\n",
    "#The test accuracy for decision tree and random model is .662 and .9 respectively, which is a huge difference, the reason for this is that a decision tree gives a single tree, whereas a random forest algorithm is a collection of  decision tree with aggregated result and is able to tackle the problem of overfitting, which is in a decision tree due to error or variance bias, hence random forest is more robust model and has a better predictive implementation due to which it gives better accuracy. \n"
   ]
  },
  {
   "cell_type": "markdown",
   "metadata": {},
   "source": [
    "### Question 4. Ensemble Methods - AdaBoost (15 points)\n",
    "- Apply Gaussian Naive Bayes (with default settings, same as Q2) with AdaBoost. Run the Naive Bayes model 200 times. Let algorithm = \"SAMME.R\", learning_rate = 0.3, and random_state = 0.\n",
    "- Report the test accuracy of the Naive Bayes model with AdaBoost.\n",
    "- Compare the performance (test accuracy) of naive bayes with and without adaboost. Briefly discuss the role of adaboost."
   ]
  },
  {
   "cell_type": "code",
   "execution_count": 22,
   "metadata": {},
   "outputs": [
    {
     "name": "stdout",
     "output_type": "stream",
     "text": [
      "The test accuracy for naive bayes model with adaboost is  0.9266666666666666\n"
     ]
    }
   ],
   "source": [
    "# YOUR CODE HERE\n",
    "\n",
    "from sklearn.ensemble import AdaBoostClassifier\n",
    "\n",
    "# Define base model\n",
    "naive_adaboost =GaussianNB()\n",
    "\n",
    "# AdaBoost\n",
    "ada_clf = AdaBoostClassifier(\n",
    "    naive_adaboost, n_estimators=200, learning_rate=0.3,\n",
    "    random_state=0, algorithm= \"SAMME.R\")\n",
    "\n",
    "ada_clf.fit(X_train, y_train)\n",
    "\n",
    "# Performance\n",
    "print(\"The test accuracy for naive bayes model with adaboost is \",ada_clf.score(X_test, y_test))"
   ]
  },
  {
   "cell_type": "code",
   "execution_count": null,
   "metadata": {},
   "outputs": [],
   "source": [
    "# YOUR DISCUSSION HERE\n",
    "\n",
    "#The test accuracy increases when naive bayes is done with AdaBoost, as Adaboost helps you combine multiple “weak classifiers” into a single “strong classifier” by adding more weight on difficult(weak learners) to classify instances and less on those already handled well, which  more weight on difficult to classify instances and less on those already handled well.Boosting decreases bias but increases variance. But an important point is if you want the combo AdaBoost + Naive Bayes to outperform Naive Bayes you have to have a big training data set. \n"
   ]
  },
  {
   "cell_type": "markdown",
   "metadata": {},
   "source": [
    "## Section B. Clustering\n",
    "The MNIST dataset can also be used for clustering practice. This case, we are not classifying a digit to its corresponding label. Instead, we assume that no digit label is known, and we are simply clustering these pictures based on their similarity.\n",
    "\n",
    "\n",
    "### Question 5. Clustering Prep (10 points)\n",
    "We have learned two clustering methods, K-Means and DBSCAN. Both methods require scaling before applying the model. \n",
    "- Apply MinMax Scaling to our data. For result consistency, use sklearn package for minmax scaling. \n",
    "- *Hint: We do not need to split the data for unsupervised learning. Thus, the scaler should be trained on the full sample (i.e., X) rather than the training sample (i.e., X_train).*\n"
   ]
  },
  {
   "cell_type": "code",
   "execution_count": 23,
   "metadata": {},
   "outputs": [],
   "source": [
    "# YOUR CODE HERE\n",
    "from sklearn.preprocessing import MinMaxScaler\n",
    "scaler=MinMaxScaler()\n",
    "X_scaled=scaler.fit_transform(X)\n"
   ]
  },
  {
   "cell_type": "markdown",
   "metadata": {},
   "source": [
    "### Question 6. K-Means Clustering (10 points)\n",
    "- Apply K-Means, set k=10 (as we have already known there should be 10 digits), and random state = 0. Make sure you are using the scaled data.\n",
    "- Predict the cluster labels. Name the result (i.e., cluster labels) as \"labels\". "
   ]
  },
  {
   "cell_type": "code",
   "execution_count": 24,
   "metadata": {},
   "outputs": [
    {
     "data": {
      "text/plain": [
       "KMeans(n_clusters=10, random_state=0)"
      ]
     },
     "execution_count": 24,
     "metadata": {},
     "output_type": "execute_result"
    }
   ],
   "source": [
    "# YOUR CODE HERE\n",
    "from sklearn.cluster import KMeans\n",
    "k_means=KMeans(n_clusters=10, random_state=0)\n",
    "k_means.fit(X_scaled)"
   ]
  },
  {
   "cell_type": "code",
   "execution_count": 25,
   "metadata": {},
   "outputs": [
    {
     "data": {
      "text/plain": [
       "array([4, 0, 0, ..., 0, 9, 9])"
      ]
     },
     "execution_count": 25,
     "metadata": {},
     "output_type": "execute_result"
    }
   ],
   "source": [
    "labels=k_means.predict(X_scaled)\n",
    "labels"
   ]
  },
  {
   "cell_type": "markdown",
   "metadata": {},
   "source": [
    "### Question 7 DBSCAN (20 points)\n",
    "- Apply DBSCAN, set eps to 1 and min_samples to 5. Predict the cluster labels. Name the result as \"temp_clusters\". \n",
    "- How many unique clusters do we have? *Hint: Consider syntax: np.unique(), which returns a list of unique cluster labels. Also consider len(), which returns the number of elements in a list.*\n",
    "- Apply DBSCAN again, let eps = 1.4 and min_samples = 5. Predict the cluster labels. Name the result as \"clusters\". \n",
    "- How many unique clusters do we have now?\n",
    "- Compare the choice of eps and the number of clusters, briefly discuss the impact of eps on cluster number.\n",
    "- Given that there are 10 digits, which parameter choice would you choose? eps = 1 or eps = 1.4?"
   ]
  },
  {
   "cell_type": "code",
   "execution_count": 26,
   "metadata": {},
   "outputs": [
    {
     "name": "stdout",
     "output_type": "stream",
     "text": [
      "[ 0 -1 -1 ... -1 -1 -1]\n"
     ]
    }
   ],
   "source": [
    "# YOUR CODE HERE (DBSCAN with eps = 1)\n",
    "from sklearn.cluster import DBSCAN\n",
    "dbclus=DBSCAN(eps=1, min_samples=5)\n",
    "temp_clusters=dbclus.fit_predict(X_scaled)\n",
    "\n",
    "print(temp_clusters)\n"
   ]
  },
  {
   "cell_type": "code",
   "execution_count": 27,
   "metadata": {},
   "outputs": [
    {
     "name": "stdout",
     "output_type": "stream",
     "text": [
      "The unique clusters are [-1  0  1  2  3  4  5  6  7  8  9 10 11 12 13 14 15 16 17 18 19 20 21 22\n",
      " 23 24 25]\n",
      "The number of unique clusters is 27\n"
     ]
    }
   ],
   "source": [
    "print(\"The unique clusters are\",np.unique(temp_clusters))\n",
    "print(\"The number of unique clusters is\",len(np.unique(temp_clusters)))"
   ]
  },
  {
   "cell_type": "code",
   "execution_count": 29,
   "metadata": {},
   "outputs": [
    {
     "name": "stdout",
     "output_type": "stream",
     "text": [
      "[ 0  1 -1 ...  1  2 -1]\n",
      "The unique clusters are [-1  0  1  2  3  4  5  6  7  8  9]\n",
      "The number of unique clusters is 11\n"
     ]
    }
   ],
   "source": [
    "# YOUR CODE HERE (DBSCAN with eps = 1.4)\n",
    "from sklearn.cluster import DBSCAN\n",
    "dbclus=DBSCAN(eps=1.4, min_samples=5)\n",
    "clusters=dbclus.fit_predict(X_scaled)\n",
    "print(clusters)\n",
    "print(\"The unique clusters are\",np.unique(clusters))\n",
    "print(\"The number of unique clusters is\",len(np.unique(clusters)))"
   ]
  },
  {
   "cell_type": "code",
   "execution_count": null,
   "metadata": {},
   "outputs": [],
   "source": [
    "# YOUR DISCUSSION HERE (Include the discussion for the last two problems here.)\n",
    "\n",
    "#If a small epsilon is chosen, a large part of the data will not be clustered. Whereas, for a too high value of ε, clusters will merge and the majority of objects will be in the same cluster. So the number of eps will define the number of clusters.\n",
    "\n",
    "#If eps is large, we will receive fewer clusters; nevertheless, since we only have 10 digits, I believe we should use 11 clusters, i.e. eps - 1.4.\n",
    "#Due to the high number of clusters, lower eps may also create extra noise.\n",
    "\n",
    "#Kmeans and dbscan have different advantages and should be used accordingly."
   ]
  },
  {
   "cell_type": "markdown",
   "metadata": {},
   "source": [
    "### Question 8. Performance of Clustering (Open Question, 10 Points)\n",
    "Clustering is an unsupervised learning method and does not have a \"ground truth\" (i.e., the cluster label of each example). Thus, it is difficult to show the performance of clustering results. \n",
    "\n",
    "When working with pictures, one way to provide some evidence of clustering performance is to show some pictures within each cluster, and see if the clustering result makes sense. \n",
    "\n",
    "- The cell below plots 5 pictures for each cluster (kmeans clustering). Run the cell below to generate the plot. (Double check Q6 - the clustering result should be under the name \"labels\".)\n",
    "- Discuss briefly about the clustering result. Does the method work well in this case?"
   ]
  },
  {
   "cell_type": "code",
   "execution_count": 24,
   "metadata": {},
   "outputs": [
    {
     "data": {
      "image/png": "[encoded data removed]",
      "text/plain": [
       "<Figure size 720x720 with 5 Axes>"
      ]
     },
     "metadata": {
      "needs_background": "light"
     },
     "output_type": "display_data"
    },
    {
     "data": {
      "image/png": "[encoded data removed]",
      "text/plain": [
       "<Figure size 720x720 with 5 Axes>"
      ]
     },
     "metadata": {
      "needs_background": "light"
     },
     "output_type": "display_data"
    },
    {
     "data": {
      "image/png": "[encoded data removed]",
      "text/plain": [
       "<Figure size 720x720 with 5 Axes>"
      ]
     },
     "metadata": {
      "needs_background": "light"
     },
     "output_type": "display_data"
    },
    {
     "data": {
      "image/png": "[encoded data removed]",
      "text/plain": [
       "<Figure size 720x720 with 5 Axes>"
      ]
     },
     "metadata": {
      "needs_background": "light"
     },
     "output_type": "display_data"
    },
    {
     "data": {
      "image/png": "[encoded data removed]",
      "text/plain": [
       "<Figure size 720x720 with 5 Axes>"
      ]
     },
     "metadata": {
      "needs_background": "light"
     },
     "output_type": "display_data"
    },
    {
     "data": {
      "image/png": "[encoded data removed]",
      "text/plain": [
       "<Figure size 720x720 with 5 Axes>"
      ]
     },
     "metadata": {
      "needs_background": "light"
     },
     "output_type": "display_data"
    },
    {
     "data": {
      "image/png": "[encoded data removed]",
      "text/plain": [
       "<Figure size 720x720 with 5 Axes>"
      ]
     },
     "metadata": {
      "needs_background": "light"
     },
     "output_type": "display_data"
    },
    {
     "data": {
      "image/png": "[encoded data removed]",
      "text/plain": [
       "<Figure size 720x720 with 5 Axes>"
      ]
     },
     "metadata": {
      "needs_background": "light"
     },
     "output_type": "display_data"
    },
    {
     "data": {
      "image/png": "[encoded data removed]",
      "text/plain": [
       "<Figure size 720x720 with 5 Axes>"
      ]
     },
     "metadata": {
      "needs_background": "light"
     },
     "output_type": "display_data"
    },
    {
     "data": {
      "image/png": "[encoded data removed]",
      "text/plain": [
       "<Figure size 720x720 with 5 Axes>"
      ]
     },
     "metadata": {
      "needs_background": "light"
     },
     "output_type": "display_data"
    }
   ],
   "source": [
    "# RUN THIS CELL TO GET FIGURE\n",
    "def draw_digit(data, row, col, n):\n",
    "    plt.subplot(row, col, n)    \n",
    "    plt.imshow(data)\n",
    "    plt.gray()\n",
    "\n",
    "for nb in range(10):\n",
    "    show_size = 5\n",
    "    plt.figure(figsize=(10,10))\n",
    "    count = 0\n",
    "\n",
    "    for i in range(mnist.images.shape[0]):\n",
    "        if count < show_size and labels[i] == nb:\n",
    "            draw_digit(mnist.images[i].reshape(8,8), 1, show_size, count+1)\n",
    "            count += 1\n",
    "    plt.show()"
   ]
  },
  {
   "cell_type": "code",
   "execution_count": null,
   "metadata": {},
   "outputs": [],
   "source": [
    "# YOUR DISCUSSION HERE\n",
    "\n",
    "#I believe that some of the clusters, such as the numerals 3,6,4,0,5,1, are plainly visible. For certain, the clusters are visible and the model works, however for others, the clusters are not visible. As a result, in that scenario, the model isn't very useful. But it's also a perception issue and depend on how a person views it and because clustering is an unsupervised learning method, it's impossible to say how accurate it is."
   ]
  }
 ],
 "metadata": {
  "kernelspec": {
   "display_name": "Python 3 (ipykernel)",
   "language": "python",
   "name": "python3"
  },
  "language_info": {
   "codemirror_mode": {
    "name": "ipython",
    "version": 3
   },
   "file_extension": ".py",
   "mimetype": "text/x-python",
   "name": "python",
   "nbconvert_exporter": "python",
   "pygments_lexer": "ipython3",
   "version": "3.9.7"
  }
 },
 "nbformat": 4,
 "nbformat_minor": 2
}
